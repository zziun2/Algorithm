{
 "cells": [
  {
   "cell_type": "code",
   "execution_count": 13,
   "id": "9c10a24c",
   "metadata": {},
   "outputs": [
    {
     "name": "stdout",
     "output_type": "stream",
     "text": [
      "1\n",
      "1\n"
     ]
    }
   ],
   "source": [
    "\"\"\"\n",
    "    피보나치 수는 0과 1로 시작한다. 0번째 피보나치 수는 0이고, 1번째 피보나치 수는 1이다. \n",
    "    그 다음 2번째 부터는 바로 앞 두 피보나치 수의 합이 된다.\n",
    "    이를 식으로 써보면 Fn = F(n-1) + F(n-2) (n ≥ 2)가 된다.\n",
    "    n=17일때 까지 피보나치 수를 써보면 다음과 같다.\n",
    "    0, 1, 1, 2, 3, 5, 8, 13, 21, 34, 55, 89, 144, 233, 377, 610, 987, 1597\n",
    "    n이 주어졌을 때, n번째 피보나치 수를 구하는 프로그램을 작성하시오.\n",
    "\"\"\"\n",
    "\n",
    "n = int(input())\n",
    "fibo = [0, 1]\n",
    "\n",
    "if n == 0 : print(0)\n",
    "elif n == 1 : print(1)\n",
    "else :\n",
    "    for i in range(2, n+1) :\n",
    "        fibo.append(fibo[i-2] + fibo[i-1])\n",
    "    print(fibo[-1])"
   ]
  },
  {
   "cell_type": "code",
   "execution_count": 1,
   "id": "16b15c20",
   "metadata": {},
   "outputs": [
    {
     "name": "stdout",
     "output_type": "stream",
     "text": [
      "17\n",
      "1597\n"
     ]
    }
   ],
   "source": [
    "# 재귀 함수로 풀기\n",
    "def fibo(num):\n",
    "    if num<=1:\n",
    "        return num\n",
    "    return fibo(num-1)+fibo(num-2)\n",
    "\n",
    "n=int(input())\n",
    "print(fibo(n))"
   ]
  }
 ],
 "metadata": {
  "kernelspec": {
   "display_name": "Python 3 (ipykernel)",
   "language": "python",
   "name": "python3"
  },
  "language_info": {
   "codemirror_mode": {
    "name": "ipython",
    "version": 3
   },
   "file_extension": ".py",
   "mimetype": "text/x-python",
   "name": "python",
   "nbconvert_exporter": "python",
   "pygments_lexer": "ipython3",
   "version": "3.9.16"
  }
 },
 "nbformat": 4,
 "nbformat_minor": 5
}
