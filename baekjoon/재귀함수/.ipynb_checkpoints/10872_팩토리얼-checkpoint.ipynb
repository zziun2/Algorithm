{
 "cells": [
  {
   "cell_type": "code",
   "execution_count": null,
   "id": "ba25b397",
   "metadata": {},
   "outputs": [],
   "source": [
    "# 0보다 크거나 같은 정수 N이 주어진다. 이때, N!을 출력하는 프로그램을 작성하시오.\n",
    "n = int(input())\n",
    "ans = 1\n",
    "for i in range(1, n+1) :\n",
    "    ans *= i\n",
    "\n",
    "print(ans)"
   ]
  },
  {
   "cell_type": "code",
   "execution_count": 9,
   "id": "0787be44",
   "metadata": {},
   "outputs": [
    {
     "name": "stdout",
     "output_type": "stream",
     "text": [
      "10\n",
      "3628800\n"
     ]
    }
   ],
   "source": [
    "# 재귀함수로 풀기\n",
    "def fac(num) :\n",
    "    if num <= 1 :\n",
    "        return 1\n",
    "    else :\n",
    "        return num * fac(num-1)\n",
    "    \n",
    "n = int(input())\n",
    "print(fac(n))"
   ]
  }
 ],
 "metadata": {
  "kernelspec": {
   "display_name": "Python 3 (ipykernel)",
   "language": "python",
   "name": "python3"
  },
  "language_info": {
   "codemirror_mode": {
    "name": "ipython",
    "version": 3
   },
   "file_extension": ".py",
   "mimetype": "text/x-python",
   "name": "python",
   "nbconvert_exporter": "python",
   "pygments_lexer": "ipython3",
   "version": "3.9.16"
  }
 },
 "nbformat": 4,
 "nbformat_minor": 5
}
